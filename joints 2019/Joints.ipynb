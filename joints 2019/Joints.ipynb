{
 "cells": [
  {
   "cell_type": "markdown",
   "metadata": {},
   "source": [
    "## Joints\n",
    "- Ini merupakan perlombaan yang saya pernah ikuti satu tahun yang lalu di UGM\n",
    "- Nama tim saya saat itu adalah AB\n",
    "- Berikut link nya : https://www.kaggle.com/c/joints-dm-2019/\n",
    "- Kolom yang dicari pada data testing adalah gender\n",
    "\n",
    "### Keterangan:\n",
    "Bila saat running ada kendala error seperti \"KeyError: 'gender'\n",
    "\", lanjutkan saja."
   ]
  },
  {
   "cell_type": "code",
   "execution_count": 1,
   "metadata": {},
   "outputs": [],
   "source": [
    "import numpy as np\n",
    "import pandas as pd\n",
    "import matplotlib.pyplot as plt\n",
    "import seaborn as sns\n",
    "from sklearn.ensemble import RandomForestClassifier\n",
    "from sklearn.model_selection import KFold\n",
    "from sklearn.model_selection import cross_val_score\n",
    "import warnings\n",
    "warnings.filterwarnings(\"ignore\")"
   ]
  },
  {
   "cell_type": "code",
   "execution_count": 2,
   "metadata": {},
   "outputs": [],
   "source": [
    "train = pd.read_csv(\"train.csv\")\n",
    "test = pd.read_csv(\"test_data.csv\")\n",
    "sampleData = pd.read_csv(\"sample_submission.csv\")"
   ]
  },
  {
   "cell_type": "code",
   "execution_count": 9,
   "metadata": {},
   "outputs": [
    {
     "data": {
      "text/html": [
       "<div>\n",
       "<style scoped>\n",
       "    .dataframe tbody tr th:only-of-type {\n",
       "        vertical-align: middle;\n",
       "    }\n",
       "\n",
       "    .dataframe tbody tr th {\n",
       "        vertical-align: top;\n",
       "    }\n",
       "\n",
       "    .dataframe thead th {\n",
       "        text-align: right;\n",
       "    }\n",
       "</style>\n",
       "<table border=\"1\" class=\"dataframe\">\n",
       "  <thead>\n",
       "    <tr style=\"text-align: right;\">\n",
       "      <th></th>\n",
       "      <th>id</th>\n",
       "      <th>fac_1</th>\n",
       "      <th>fac_2</th>\n",
       "      <th>fac_3</th>\n",
       "      <th>fac_4</th>\n",
       "      <th>fac_5</th>\n",
       "      <th>fac_6</th>\n",
       "      <th>fac_7</th>\n",
       "      <th>fac_8</th>\n",
       "      <th>poi_1</th>\n",
       "      <th>poi_2</th>\n",
       "      <th>poi_3</th>\n",
       "      <th>size</th>\n",
       "      <th>price_monthly</th>\n",
       "      <th>room_count</th>\n",
       "      <th>total_call</th>\n",
       "      <th>gender</th>\n",
       "    </tr>\n",
       "  </thead>\n",
       "  <tbody>\n",
       "    <tr>\n",
       "      <th>0</th>\n",
       "      <td>1</td>\n",
       "      <td>1.0</td>\n",
       "      <td>1.0</td>\n",
       "      <td>1.0</td>\n",
       "      <td>1.0</td>\n",
       "      <td>1.0</td>\n",
       "      <td>1.0</td>\n",
       "      <td>0.0</td>\n",
       "      <td>1.0</td>\n",
       "      <td>1778.0</td>\n",
       "      <td>10038.0</td>\n",
       "      <td>4106.0</td>\n",
       "      <td>9.00</td>\n",
       "      <td>1500000.0</td>\n",
       "      <td>6.0</td>\n",
       "      <td>72</td>\n",
       "      <td>2</td>\n",
       "    </tr>\n",
       "    <tr>\n",
       "      <th>1</th>\n",
       "      <td>2</td>\n",
       "      <td>1.0</td>\n",
       "      <td>1.0</td>\n",
       "      <td>0.0</td>\n",
       "      <td>1.0</td>\n",
       "      <td>1.0</td>\n",
       "      <td>1.0</td>\n",
       "      <td>0.0</td>\n",
       "      <td>1.0</td>\n",
       "      <td>4548.0</td>\n",
       "      <td>9332.0</td>\n",
       "      <td>6867.0</td>\n",
       "      <td>12.00</td>\n",
       "      <td>1500000.0</td>\n",
       "      <td>30.0</td>\n",
       "      <td>56</td>\n",
       "      <td>2</td>\n",
       "    </tr>\n",
       "    <tr>\n",
       "      <th>2</th>\n",
       "      <td>3</td>\n",
       "      <td>1.0</td>\n",
       "      <td>1.0</td>\n",
       "      <td>1.0</td>\n",
       "      <td>1.0</td>\n",
       "      <td>1.0</td>\n",
       "      <td>1.0</td>\n",
       "      <td>0.0</td>\n",
       "      <td>1.0</td>\n",
       "      <td>5174.0</td>\n",
       "      <td>9021.0</td>\n",
       "      <td>3693.0</td>\n",
       "      <td>12.00</td>\n",
       "      <td>1600000.0</td>\n",
       "      <td>20.0</td>\n",
       "      <td>109</td>\n",
       "      <td>2</td>\n",
       "    </tr>\n",
       "    <tr>\n",
       "      <th>3</th>\n",
       "      <td>4</td>\n",
       "      <td>1.0</td>\n",
       "      <td>1.0</td>\n",
       "      <td>1.0</td>\n",
       "      <td>1.0</td>\n",
       "      <td>1.0</td>\n",
       "      <td>1.0</td>\n",
       "      <td>0.0</td>\n",
       "      <td>0.0</td>\n",
       "      <td>1490.0</td>\n",
       "      <td>8954.0</td>\n",
       "      <td>2139.0</td>\n",
       "      <td>8.25</td>\n",
       "      <td>1500000.0</td>\n",
       "      <td>15.0</td>\n",
       "      <td>54</td>\n",
       "      <td>2</td>\n",
       "    </tr>\n",
       "    <tr>\n",
       "      <th>4</th>\n",
       "      <td>5</td>\n",
       "      <td>1.0</td>\n",
       "      <td>1.0</td>\n",
       "      <td>0.0</td>\n",
       "      <td>1.0</td>\n",
       "      <td>1.0</td>\n",
       "      <td>1.0</td>\n",
       "      <td>0.0</td>\n",
       "      <td>1.0</td>\n",
       "      <td>1688.0</td>\n",
       "      <td>8851.0</td>\n",
       "      <td>2145.0</td>\n",
       "      <td>14.85</td>\n",
       "      <td>2100000.0</td>\n",
       "      <td>10.0</td>\n",
       "      <td>19</td>\n",
       "      <td>2</td>\n",
       "    </tr>\n",
       "  </tbody>\n",
       "</table>\n",
       "</div>"
      ],
      "text/plain": [
       "   id  fac_1  fac_2  fac_3  fac_4  fac_5  fac_6  fac_7  fac_8   poi_1  \\\n",
       "0   1    1.0    1.0    1.0    1.0    1.0    1.0    0.0    1.0  1778.0   \n",
       "1   2    1.0    1.0    0.0    1.0    1.0    1.0    0.0    1.0  4548.0   \n",
       "2   3    1.0    1.0    1.0    1.0    1.0    1.0    0.0    1.0  5174.0   \n",
       "3   4    1.0    1.0    1.0    1.0    1.0    1.0    0.0    0.0  1490.0   \n",
       "4   5    1.0    1.0    0.0    1.0    1.0    1.0    0.0    1.0  1688.0   \n",
       "\n",
       "     poi_2   poi_3   size  price_monthly  room_count  total_call  gender  \n",
       "0  10038.0  4106.0   9.00      1500000.0         6.0          72       2  \n",
       "1   9332.0  6867.0  12.00      1500000.0        30.0          56       2  \n",
       "2   9021.0  3693.0  12.00      1600000.0        20.0         109       2  \n",
       "3   8954.0  2139.0   8.25      1500000.0        15.0          54       2  \n",
       "4   8851.0  2145.0  14.85      2100000.0        10.0          19       2  "
      ]
     },
     "execution_count": 9,
     "metadata": {},
     "output_type": "execute_result"
    }
   ],
   "source": [
    "train.head()"
   ]
  },
  {
   "cell_type": "code",
   "execution_count": 3,
   "metadata": {},
   "outputs": [],
   "source": [
    "ttrain = [train,test]"
   ]
  },
  {
   "cell_type": "code",
   "execution_count": 4,
   "metadata": {},
   "outputs": [],
   "source": [
    "#sub 1\n",
    "train[\"poi_1\"] = train[\"poi_1\"].fillna(train.groupby(\"gender\")[\"poi_1\"].transform(\"median\"))\n",
    "train[\"poi_2\"] = train[\"poi_2\"].fillna(train.groupby(\"gender\")[\"poi_2\"].transform(\"median\"))\n",
    "train[\"poi_3\"] = train[\"poi_3\"].fillna(train.groupby(\"gender\")[\"poi_3\"].transform(\"median\"))\n",
    "train[\"size\"] = train[\"size\"].fillna(train.groupby(\"gender\")[\"size\"].transform(\"median\"))\n",
    "train[\"price_monthly\"] = train[\"price_monthly\"].fillna(train.groupby(\"gender\")[\"price_monthly\"].transform(\"median\"))\n",
    "train[\"room_count\"] = train[\"room_count\"].fillna(train.groupby(\"gender\")[\"room_count\"].transform(\"median\"))\n",
    "train[\"total_call\"] = train[\"total_call\"].fillna(train.groupby(\"gender\")[\"total_call\"].transform(\"median\"))"
   ]
  },
  {
   "cell_type": "code",
   "execution_count": 5,
   "metadata": {},
   "outputs": [],
   "source": [
    "#sub 1\n",
    "train[\"fac_1\"] = train[\"fac_1\"].fillna(train[\"fac_1\"].mode()[0])\n",
    "train[\"fac_2\"] = train[\"fac_2\"].fillna(train[\"fac_2\"].mode()[0])\n",
    "train[\"fac_3\"] = train[\"fac_3\"].fillna(train[\"fac_3\"].mode()[0])\n",
    "train[\"fac_4\"] = train[\"fac_4\"].fillna(train[\"fac_4\"].mode()[0])\n",
    "train[\"fac_5\"] = train[\"fac_5\"].fillna(train[\"fac_5\"].mode()[0])\n",
    "train[\"fac_6\"] = train[\"fac_6\"].fillna(train[\"fac_6\"].mode()[0])\n",
    "train[\"fac_7\"] = train[\"fac_7\"].fillna(train[\"fac_7\"].mode()[0])\n",
    "train[\"fac_8\"] = train[\"fac_8\"].fillna(train[\"fac_8\"].mode()[0])"
   ]
  },
  {
   "cell_type": "code",
   "execution_count": 8,
   "metadata": {},
   "outputs": [
    {
     "ename": "KeyError",
     "evalue": "'gender'",
     "output_type": "error",
     "traceback": [
      "\u001b[1;31m---------------------------------------------------------------------------\u001b[0m",
      "\u001b[1;31mKeyError\u001b[0m                                  Traceback (most recent call last)",
      "\u001b[1;32m~\\Anaconda3\\lib\\site-packages\\pandas\\core\\indexes\\base.py\u001b[0m in \u001b[0;36mget_loc\u001b[1;34m(self, key, method, tolerance)\u001b[0m\n\u001b[0;32m   2655\u001b[0m             \u001b[1;32mtry\u001b[0m\u001b[1;33m:\u001b[0m\u001b[1;33m\u001b[0m\u001b[1;33m\u001b[0m\u001b[0m\n\u001b[1;32m-> 2656\u001b[1;33m                 \u001b[1;32mreturn\u001b[0m \u001b[0mself\u001b[0m\u001b[1;33m.\u001b[0m\u001b[0m_engine\u001b[0m\u001b[1;33m.\u001b[0m\u001b[0mget_loc\u001b[0m\u001b[1;33m(\u001b[0m\u001b[0mkey\u001b[0m\u001b[1;33m)\u001b[0m\u001b[1;33m\u001b[0m\u001b[1;33m\u001b[0m\u001b[0m\n\u001b[0m\u001b[0;32m   2657\u001b[0m             \u001b[1;32mexcept\u001b[0m \u001b[0mKeyError\u001b[0m\u001b[1;33m:\u001b[0m\u001b[1;33m\u001b[0m\u001b[1;33m\u001b[0m\u001b[0m\n",
      "\u001b[1;32mpandas\\_libs\\index.pyx\u001b[0m in \u001b[0;36mpandas._libs.index.IndexEngine.get_loc\u001b[1;34m()\u001b[0m\n",
      "\u001b[1;32mpandas\\_libs\\index.pyx\u001b[0m in \u001b[0;36mpandas._libs.index.IndexEngine.get_loc\u001b[1;34m()\u001b[0m\n",
      "\u001b[1;32mpandas\\_libs\\index_class_helper.pxi\u001b[0m in \u001b[0;36mpandas._libs.index.Int64Engine._check_type\u001b[1;34m()\u001b[0m\n",
      "\u001b[1;31mKeyError\u001b[0m: 'gender'",
      "\nDuring handling of the above exception, another exception occurred:\n",
      "\u001b[1;31mKeyError\u001b[0m                                  Traceback (most recent call last)",
      "\u001b[1;32m<ipython-input-8-a3b6432fae6c>\u001b[0m in \u001b[0;36m<module>\u001b[1;34m\u001b[0m\n\u001b[0;32m      1\u001b[0m \u001b[0mgender_mapping\u001b[0m \u001b[1;33m=\u001b[0m \u001b[1;33m{\u001b[0m\u001b[1;34m\"putra\"\u001b[0m\u001b[1;33m:\u001b[0m\u001b[1;36m0\u001b[0m\u001b[1;33m,\u001b[0m \u001b[1;34m\"putri\"\u001b[0m\u001b[1;33m:\u001b[0m\u001b[1;36m1\u001b[0m\u001b[1;33m,\u001b[0m \u001b[1;34m\"campur\"\u001b[0m\u001b[1;33m:\u001b[0m\u001b[1;36m2\u001b[0m\u001b[1;33m}\u001b[0m\u001b[1;33m\u001b[0m\u001b[1;33m\u001b[0m\u001b[0m\n\u001b[0;32m      2\u001b[0m \u001b[1;32mfor\u001b[0m \u001b[0mdataset\u001b[0m \u001b[1;32min\u001b[0m \u001b[0mttrain\u001b[0m\u001b[1;33m:\u001b[0m\u001b[1;33m\u001b[0m\u001b[1;33m\u001b[0m\u001b[0m\n\u001b[1;32m----> 3\u001b[1;33m     \u001b[0mdataset\u001b[0m\u001b[1;33m[\u001b[0m\u001b[1;34m\"gender\"\u001b[0m\u001b[1;33m]\u001b[0m \u001b[1;33m=\u001b[0m \u001b[0mdataset\u001b[0m\u001b[1;33m.\u001b[0m\u001b[0mloc\u001b[0m\u001b[1;33m[\u001b[0m\u001b[1;34m\"gender\"\u001b[0m\u001b[1;33m]\u001b[0m\u001b[1;33m.\u001b[0m\u001b[0mmap\u001b[0m\u001b[1;33m(\u001b[0m\u001b[0mgender_mapping\u001b[0m\u001b[1;33m)\u001b[0m\u001b[1;33m\u001b[0m\u001b[1;33m\u001b[0m\u001b[0m\n\u001b[0m",
      "\u001b[1;32m~\\Anaconda3\\lib\\site-packages\\pandas\\core\\indexing.py\u001b[0m in \u001b[0;36m__getitem__\u001b[1;34m(self, key)\u001b[0m\n\u001b[0;32m   1498\u001b[0m \u001b[1;33m\u001b[0m\u001b[0m\n\u001b[0;32m   1499\u001b[0m             \u001b[0mmaybe_callable\u001b[0m \u001b[1;33m=\u001b[0m \u001b[0mcom\u001b[0m\u001b[1;33m.\u001b[0m\u001b[0mapply_if_callable\u001b[0m\u001b[1;33m(\u001b[0m\u001b[0mkey\u001b[0m\u001b[1;33m,\u001b[0m \u001b[0mself\u001b[0m\u001b[1;33m.\u001b[0m\u001b[0mobj\u001b[0m\u001b[1;33m)\u001b[0m\u001b[1;33m\u001b[0m\u001b[1;33m\u001b[0m\u001b[0m\n\u001b[1;32m-> 1500\u001b[1;33m             \u001b[1;32mreturn\u001b[0m \u001b[0mself\u001b[0m\u001b[1;33m.\u001b[0m\u001b[0m_getitem_axis\u001b[0m\u001b[1;33m(\u001b[0m\u001b[0mmaybe_callable\u001b[0m\u001b[1;33m,\u001b[0m \u001b[0maxis\u001b[0m\u001b[1;33m=\u001b[0m\u001b[0maxis\u001b[0m\u001b[1;33m)\u001b[0m\u001b[1;33m\u001b[0m\u001b[1;33m\u001b[0m\u001b[0m\n\u001b[0m\u001b[0;32m   1501\u001b[0m \u001b[1;33m\u001b[0m\u001b[0m\n\u001b[0;32m   1502\u001b[0m     \u001b[1;32mdef\u001b[0m \u001b[0m_is_scalar_access\u001b[0m\u001b[1;33m(\u001b[0m\u001b[0mself\u001b[0m\u001b[1;33m,\u001b[0m \u001b[0mkey\u001b[0m\u001b[1;33m)\u001b[0m\u001b[1;33m:\u001b[0m\u001b[1;33m\u001b[0m\u001b[1;33m\u001b[0m\u001b[0m\n",
      "\u001b[1;32m~\\Anaconda3\\lib\\site-packages\\pandas\\core\\indexing.py\u001b[0m in \u001b[0;36m_getitem_axis\u001b[1;34m(self, key, axis)\u001b[0m\n\u001b[0;32m   1911\u001b[0m         \u001b[1;31m# fall thru to straight lookup\u001b[0m\u001b[1;33m\u001b[0m\u001b[1;33m\u001b[0m\u001b[1;33m\u001b[0m\u001b[0m\n\u001b[0;32m   1912\u001b[0m         \u001b[0mself\u001b[0m\u001b[1;33m.\u001b[0m\u001b[0m_validate_key\u001b[0m\u001b[1;33m(\u001b[0m\u001b[0mkey\u001b[0m\u001b[1;33m,\u001b[0m \u001b[0maxis\u001b[0m\u001b[1;33m)\u001b[0m\u001b[1;33m\u001b[0m\u001b[1;33m\u001b[0m\u001b[0m\n\u001b[1;32m-> 1913\u001b[1;33m         \u001b[1;32mreturn\u001b[0m \u001b[0mself\u001b[0m\u001b[1;33m.\u001b[0m\u001b[0m_get_label\u001b[0m\u001b[1;33m(\u001b[0m\u001b[0mkey\u001b[0m\u001b[1;33m,\u001b[0m \u001b[0maxis\u001b[0m\u001b[1;33m=\u001b[0m\u001b[0maxis\u001b[0m\u001b[1;33m)\u001b[0m\u001b[1;33m\u001b[0m\u001b[1;33m\u001b[0m\u001b[0m\n\u001b[0m\u001b[0;32m   1914\u001b[0m \u001b[1;33m\u001b[0m\u001b[0m\n\u001b[0;32m   1915\u001b[0m \u001b[1;33m\u001b[0m\u001b[0m\n",
      "\u001b[1;32m~\\Anaconda3\\lib\\site-packages\\pandas\\core\\indexing.py\u001b[0m in \u001b[0;36m_get_label\u001b[1;34m(self, label, axis)\u001b[0m\n\u001b[0;32m    139\u001b[0m             \u001b[1;32mraise\u001b[0m \u001b[0mIndexingError\u001b[0m\u001b[1;33m(\u001b[0m\u001b[1;34m'no slices here, handle elsewhere'\u001b[0m\u001b[1;33m)\u001b[0m\u001b[1;33m\u001b[0m\u001b[1;33m\u001b[0m\u001b[0m\n\u001b[0;32m    140\u001b[0m \u001b[1;33m\u001b[0m\u001b[0m\n\u001b[1;32m--> 141\u001b[1;33m         \u001b[1;32mreturn\u001b[0m \u001b[0mself\u001b[0m\u001b[1;33m.\u001b[0m\u001b[0mobj\u001b[0m\u001b[1;33m.\u001b[0m\u001b[0m_xs\u001b[0m\u001b[1;33m(\u001b[0m\u001b[0mlabel\u001b[0m\u001b[1;33m,\u001b[0m \u001b[0maxis\u001b[0m\u001b[1;33m=\u001b[0m\u001b[0maxis\u001b[0m\u001b[1;33m)\u001b[0m\u001b[1;33m\u001b[0m\u001b[1;33m\u001b[0m\u001b[0m\n\u001b[0m\u001b[0;32m    142\u001b[0m \u001b[1;33m\u001b[0m\u001b[0m\n\u001b[0;32m    143\u001b[0m     \u001b[1;32mdef\u001b[0m \u001b[0m_get_loc\u001b[0m\u001b[1;33m(\u001b[0m\u001b[0mself\u001b[0m\u001b[1;33m,\u001b[0m \u001b[0mkey\u001b[0m\u001b[1;33m,\u001b[0m \u001b[0maxis\u001b[0m\u001b[1;33m=\u001b[0m\u001b[1;32mNone\u001b[0m\u001b[1;33m)\u001b[0m\u001b[1;33m:\u001b[0m\u001b[1;33m\u001b[0m\u001b[1;33m\u001b[0m\u001b[0m\n",
      "\u001b[1;32m~\\Anaconda3\\lib\\site-packages\\pandas\\core\\generic.py\u001b[0m in \u001b[0;36mxs\u001b[1;34m(self, key, axis, level, drop_level)\u001b[0m\n\u001b[0;32m   3583\u001b[0m                                                       drop_level=drop_level)\n\u001b[0;32m   3584\u001b[0m         \u001b[1;32melse\u001b[0m\u001b[1;33m:\u001b[0m\u001b[1;33m\u001b[0m\u001b[1;33m\u001b[0m\u001b[0m\n\u001b[1;32m-> 3585\u001b[1;33m             \u001b[0mloc\u001b[0m \u001b[1;33m=\u001b[0m \u001b[0mself\u001b[0m\u001b[1;33m.\u001b[0m\u001b[0mindex\u001b[0m\u001b[1;33m.\u001b[0m\u001b[0mget_loc\u001b[0m\u001b[1;33m(\u001b[0m\u001b[0mkey\u001b[0m\u001b[1;33m)\u001b[0m\u001b[1;33m\u001b[0m\u001b[1;33m\u001b[0m\u001b[0m\n\u001b[0m\u001b[0;32m   3586\u001b[0m \u001b[1;33m\u001b[0m\u001b[0m\n\u001b[0;32m   3587\u001b[0m             \u001b[1;32mif\u001b[0m \u001b[0misinstance\u001b[0m\u001b[1;33m(\u001b[0m\u001b[0mloc\u001b[0m\u001b[1;33m,\u001b[0m \u001b[0mnp\u001b[0m\u001b[1;33m.\u001b[0m\u001b[0mndarray\u001b[0m\u001b[1;33m)\u001b[0m\u001b[1;33m:\u001b[0m\u001b[1;33m\u001b[0m\u001b[1;33m\u001b[0m\u001b[0m\n",
      "\u001b[1;32m~\\Anaconda3\\lib\\site-packages\\pandas\\core\\indexes\\base.py\u001b[0m in \u001b[0;36mget_loc\u001b[1;34m(self, key, method, tolerance)\u001b[0m\n\u001b[0;32m   2656\u001b[0m                 \u001b[1;32mreturn\u001b[0m \u001b[0mself\u001b[0m\u001b[1;33m.\u001b[0m\u001b[0m_engine\u001b[0m\u001b[1;33m.\u001b[0m\u001b[0mget_loc\u001b[0m\u001b[1;33m(\u001b[0m\u001b[0mkey\u001b[0m\u001b[1;33m)\u001b[0m\u001b[1;33m\u001b[0m\u001b[1;33m\u001b[0m\u001b[0m\n\u001b[0;32m   2657\u001b[0m             \u001b[1;32mexcept\u001b[0m \u001b[0mKeyError\u001b[0m\u001b[1;33m:\u001b[0m\u001b[1;33m\u001b[0m\u001b[1;33m\u001b[0m\u001b[0m\n\u001b[1;32m-> 2658\u001b[1;33m                 \u001b[1;32mreturn\u001b[0m \u001b[0mself\u001b[0m\u001b[1;33m.\u001b[0m\u001b[0m_engine\u001b[0m\u001b[1;33m.\u001b[0m\u001b[0mget_loc\u001b[0m\u001b[1;33m(\u001b[0m\u001b[0mself\u001b[0m\u001b[1;33m.\u001b[0m\u001b[0m_maybe_cast_indexer\u001b[0m\u001b[1;33m(\u001b[0m\u001b[0mkey\u001b[0m\u001b[1;33m)\u001b[0m\u001b[1;33m)\u001b[0m\u001b[1;33m\u001b[0m\u001b[1;33m\u001b[0m\u001b[0m\n\u001b[0m\u001b[0;32m   2659\u001b[0m         \u001b[0mindexer\u001b[0m \u001b[1;33m=\u001b[0m \u001b[0mself\u001b[0m\u001b[1;33m.\u001b[0m\u001b[0mget_indexer\u001b[0m\u001b[1;33m(\u001b[0m\u001b[1;33m[\u001b[0m\u001b[0mkey\u001b[0m\u001b[1;33m]\u001b[0m\u001b[1;33m,\u001b[0m \u001b[0mmethod\u001b[0m\u001b[1;33m=\u001b[0m\u001b[0mmethod\u001b[0m\u001b[1;33m,\u001b[0m \u001b[0mtolerance\u001b[0m\u001b[1;33m=\u001b[0m\u001b[0mtolerance\u001b[0m\u001b[1;33m)\u001b[0m\u001b[1;33m\u001b[0m\u001b[1;33m\u001b[0m\u001b[0m\n\u001b[0;32m   2660\u001b[0m         \u001b[1;32mif\u001b[0m \u001b[0mindexer\u001b[0m\u001b[1;33m.\u001b[0m\u001b[0mndim\u001b[0m \u001b[1;33m>\u001b[0m \u001b[1;36m1\u001b[0m \u001b[1;32mor\u001b[0m \u001b[0mindexer\u001b[0m\u001b[1;33m.\u001b[0m\u001b[0msize\u001b[0m \u001b[1;33m>\u001b[0m \u001b[1;36m1\u001b[0m\u001b[1;33m:\u001b[0m\u001b[1;33m\u001b[0m\u001b[1;33m\u001b[0m\u001b[0m\n",
      "\u001b[1;32mpandas\\_libs\\index.pyx\u001b[0m in \u001b[0;36mpandas._libs.index.IndexEngine.get_loc\u001b[1;34m()\u001b[0m\n",
      "\u001b[1;32mpandas\\_libs\\index.pyx\u001b[0m in \u001b[0;36mpandas._libs.index.IndexEngine.get_loc\u001b[1;34m()\u001b[0m\n",
      "\u001b[1;32mpandas\\_libs\\index_class_helper.pxi\u001b[0m in \u001b[0;36mpandas._libs.index.Int64Engine._check_type\u001b[1;34m()\u001b[0m\n",
      "\u001b[1;31mKeyError\u001b[0m: 'gender'"
     ]
    }
   ],
   "source": [
    "gender_mapping = {\"putra\":0, \"putri\":1, \"campur\":2}\n",
    "for dataset in ttrain:\n",
    "    dataset[\"gender\"] = dataset[\"gender\"].map(gender_mapping)"
   ]
  },
  {
   "cell_type": "code",
   "execution_count": 10,
   "metadata": {},
   "outputs": [],
   "source": [
    "################################"
   ]
  },
  {
   "cell_type": "code",
   "execution_count": 11,
   "metadata": {},
   "outputs": [],
   "source": [
    "#sub 2\n",
    "train2 = pd.read_csv(\"C:/Users/windows/Downloads/AB/joints/train.csv\")\n",
    "train2 = train.dropna(axis=\"rows\")\n",
    "bigtrain = pd.concat([train, train2], ignore_index=True )"
   ]
  },
  {
   "cell_type": "code",
   "execution_count": 12,
   "metadata": {},
   "outputs": [
    {
     "data": {
      "text/plain": [
       "(6586, 17)"
      ]
     },
     "execution_count": 12,
     "metadata": {},
     "output_type": "execute_result"
    }
   ],
   "source": [
    "bigtrain.shape"
   ]
  },
  {
   "cell_type": "code",
   "execution_count": 13,
   "metadata": {},
   "outputs": [],
   "source": [
    "fac_total = train[\"fac_1\"]+train[\"fac_2\"]+train[\"fac_3\"]+train[\"fac_4\"]+ \\\n",
    "train[\"fac_5\"]+train[\"fac_6\"]+train[\"fac_7\"]+train[\"fac_8\"]\n",
    "\n",
    "#train[\"fac_total\"] = fac_total"
   ]
  },
  {
   "cell_type": "code",
   "execution_count": 14,
   "metadata": {},
   "outputs": [
    {
     "ename": "KeyError",
     "evalue": "'fac_total'",
     "output_type": "error",
     "traceback": [
      "\u001b[1;31m---------------------------------------------------------------------------\u001b[0m",
      "\u001b[1;31mKeyError\u001b[0m                                  Traceback (most recent call last)",
      "\u001b[1;32m~\\Anaconda3\\lib\\site-packages\\pandas\\core\\indexes\\base.py\u001b[0m in \u001b[0;36mget_loc\u001b[1;34m(self, key, method, tolerance)\u001b[0m\n\u001b[0;32m   2655\u001b[0m             \u001b[1;32mtry\u001b[0m\u001b[1;33m:\u001b[0m\u001b[1;33m\u001b[0m\u001b[1;33m\u001b[0m\u001b[0m\n\u001b[1;32m-> 2656\u001b[1;33m                 \u001b[1;32mreturn\u001b[0m \u001b[0mself\u001b[0m\u001b[1;33m.\u001b[0m\u001b[0m_engine\u001b[0m\u001b[1;33m.\u001b[0m\u001b[0mget_loc\u001b[0m\u001b[1;33m(\u001b[0m\u001b[0mkey\u001b[0m\u001b[1;33m)\u001b[0m\u001b[1;33m\u001b[0m\u001b[1;33m\u001b[0m\u001b[0m\n\u001b[0m\u001b[0;32m   2657\u001b[0m             \u001b[1;32mexcept\u001b[0m \u001b[0mKeyError\u001b[0m\u001b[1;33m:\u001b[0m\u001b[1;33m\u001b[0m\u001b[1;33m\u001b[0m\u001b[0m\n",
      "\u001b[1;32mpandas\\_libs\\index.pyx\u001b[0m in \u001b[0;36mpandas._libs.index.IndexEngine.get_loc\u001b[1;34m()\u001b[0m\n",
      "\u001b[1;32mpandas\\_libs\\index.pyx\u001b[0m in \u001b[0;36mpandas._libs.index.IndexEngine.get_loc\u001b[1;34m()\u001b[0m\n",
      "\u001b[1;32mpandas\\_libs\\hashtable_class_helper.pxi\u001b[0m in \u001b[0;36mpandas._libs.hashtable.PyObjectHashTable.get_item\u001b[1;34m()\u001b[0m\n",
      "\u001b[1;32mpandas\\_libs\\hashtable_class_helper.pxi\u001b[0m in \u001b[0;36mpandas._libs.hashtable.PyObjectHashTable.get_item\u001b[1;34m()\u001b[0m\n",
      "\u001b[1;31mKeyError\u001b[0m: 'fac_total'",
      "\nDuring handling of the above exception, another exception occurred:\n",
      "\u001b[1;31mKeyError\u001b[0m                                  Traceback (most recent call last)",
      "\u001b[1;32m<ipython-input-14-1b2763a454ee>\u001b[0m in \u001b[0;36m<module>\u001b[1;34m\u001b[0m\n\u001b[0;32m      1\u001b[0m \u001b[1;32mfor\u001b[0m \u001b[0mdataset\u001b[0m \u001b[1;32min\u001b[0m \u001b[0mttrain\u001b[0m\u001b[1;33m:\u001b[0m\u001b[1;33m\u001b[0m\u001b[1;33m\u001b[0m\u001b[0m\n\u001b[1;32m----> 2\u001b[1;33m     \u001b[0mdataset\u001b[0m\u001b[1;33m.\u001b[0m\u001b[0mloc\u001b[0m\u001b[1;33m[\u001b[0m\u001b[1;33m(\u001b[0m\u001b[0mdataset\u001b[0m\u001b[1;33m[\u001b[0m\u001b[1;34m\"fac_total\"\u001b[0m\u001b[1;33m]\u001b[0m \u001b[1;33m>\u001b[0m \u001b[1;36m2\u001b[0m\u001b[1;33m)\u001b[0m \u001b[1;33m&\u001b[0m \u001b[1;33m(\u001b[0m\u001b[0mdataset\u001b[0m\u001b[1;33m[\u001b[0m\u001b[1;34m\"fac_total\"\u001b[0m\u001b[1;33m]\u001b[0m \u001b[1;33m<=\u001b[0m \u001b[1;36m4\u001b[0m\u001b[1;33m)\u001b[0m\u001b[1;33m,\u001b[0m \u001b[1;34m\"fac_total\"\u001b[0m\u001b[1;33m]\u001b[0m \u001b[1;33m=\u001b[0m \u001b[1;36m1\u001b[0m\u001b[1;33m,\u001b[0m\u001b[1;33m\u001b[0m\u001b[1;33m\u001b[0m\u001b[0m\n\u001b[0m\u001b[0;32m      3\u001b[0m     \u001b[0mdataset\u001b[0m\u001b[1;33m.\u001b[0m\u001b[0mloc\u001b[0m\u001b[1;33m[\u001b[0m\u001b[1;33m(\u001b[0m\u001b[0mdataset\u001b[0m\u001b[1;33m[\u001b[0m\u001b[1;34m\"fac_total\"\u001b[0m\u001b[1;33m]\u001b[0m \u001b[1;33m>\u001b[0m \u001b[1;36m4\u001b[0m\u001b[1;33m)\u001b[0m \u001b[1;33m&\u001b[0m \u001b[1;33m(\u001b[0m\u001b[0mdataset\u001b[0m\u001b[1;33m[\u001b[0m\u001b[1;34m\"fac_total\"\u001b[0m\u001b[1;33m]\u001b[0m \u001b[1;33m<=\u001b[0m \u001b[1;36m6\u001b[0m\u001b[1;33m)\u001b[0m\u001b[1;33m,\u001b[0m \u001b[1;34m\"fac_total\"\u001b[0m\u001b[1;33m]\u001b[0m \u001b[1;33m=\u001b[0m \u001b[1;36m2\u001b[0m\u001b[1;33m,\u001b[0m\u001b[1;33m\u001b[0m\u001b[1;33m\u001b[0m\u001b[0m\n",
      "\u001b[1;32m~\\Anaconda3\\lib\\site-packages\\pandas\\core\\frame.py\u001b[0m in \u001b[0;36m__getitem__\u001b[1;34m(self, key)\u001b[0m\n\u001b[0;32m   2925\u001b[0m             \u001b[1;32mif\u001b[0m \u001b[0mself\u001b[0m\u001b[1;33m.\u001b[0m\u001b[0mcolumns\u001b[0m\u001b[1;33m.\u001b[0m\u001b[0mnlevels\u001b[0m \u001b[1;33m>\u001b[0m \u001b[1;36m1\u001b[0m\u001b[1;33m:\u001b[0m\u001b[1;33m\u001b[0m\u001b[1;33m\u001b[0m\u001b[0m\n\u001b[0;32m   2926\u001b[0m                 \u001b[1;32mreturn\u001b[0m \u001b[0mself\u001b[0m\u001b[1;33m.\u001b[0m\u001b[0m_getitem_multilevel\u001b[0m\u001b[1;33m(\u001b[0m\u001b[0mkey\u001b[0m\u001b[1;33m)\u001b[0m\u001b[1;33m\u001b[0m\u001b[1;33m\u001b[0m\u001b[0m\n\u001b[1;32m-> 2927\u001b[1;33m             \u001b[0mindexer\u001b[0m \u001b[1;33m=\u001b[0m \u001b[0mself\u001b[0m\u001b[1;33m.\u001b[0m\u001b[0mcolumns\u001b[0m\u001b[1;33m.\u001b[0m\u001b[0mget_loc\u001b[0m\u001b[1;33m(\u001b[0m\u001b[0mkey\u001b[0m\u001b[1;33m)\u001b[0m\u001b[1;33m\u001b[0m\u001b[1;33m\u001b[0m\u001b[0m\n\u001b[0m\u001b[0;32m   2928\u001b[0m             \u001b[1;32mif\u001b[0m \u001b[0mis_integer\u001b[0m\u001b[1;33m(\u001b[0m\u001b[0mindexer\u001b[0m\u001b[1;33m)\u001b[0m\u001b[1;33m:\u001b[0m\u001b[1;33m\u001b[0m\u001b[1;33m\u001b[0m\u001b[0m\n\u001b[0;32m   2929\u001b[0m                 \u001b[0mindexer\u001b[0m \u001b[1;33m=\u001b[0m \u001b[1;33m[\u001b[0m\u001b[0mindexer\u001b[0m\u001b[1;33m]\u001b[0m\u001b[1;33m\u001b[0m\u001b[1;33m\u001b[0m\u001b[0m\n",
      "\u001b[1;32m~\\Anaconda3\\lib\\site-packages\\pandas\\core\\indexes\\base.py\u001b[0m in \u001b[0;36mget_loc\u001b[1;34m(self, key, method, tolerance)\u001b[0m\n\u001b[0;32m   2656\u001b[0m                 \u001b[1;32mreturn\u001b[0m \u001b[0mself\u001b[0m\u001b[1;33m.\u001b[0m\u001b[0m_engine\u001b[0m\u001b[1;33m.\u001b[0m\u001b[0mget_loc\u001b[0m\u001b[1;33m(\u001b[0m\u001b[0mkey\u001b[0m\u001b[1;33m)\u001b[0m\u001b[1;33m\u001b[0m\u001b[1;33m\u001b[0m\u001b[0m\n\u001b[0;32m   2657\u001b[0m             \u001b[1;32mexcept\u001b[0m \u001b[0mKeyError\u001b[0m\u001b[1;33m:\u001b[0m\u001b[1;33m\u001b[0m\u001b[1;33m\u001b[0m\u001b[0m\n\u001b[1;32m-> 2658\u001b[1;33m                 \u001b[1;32mreturn\u001b[0m \u001b[0mself\u001b[0m\u001b[1;33m.\u001b[0m\u001b[0m_engine\u001b[0m\u001b[1;33m.\u001b[0m\u001b[0mget_loc\u001b[0m\u001b[1;33m(\u001b[0m\u001b[0mself\u001b[0m\u001b[1;33m.\u001b[0m\u001b[0m_maybe_cast_indexer\u001b[0m\u001b[1;33m(\u001b[0m\u001b[0mkey\u001b[0m\u001b[1;33m)\u001b[0m\u001b[1;33m)\u001b[0m\u001b[1;33m\u001b[0m\u001b[1;33m\u001b[0m\u001b[0m\n\u001b[0m\u001b[0;32m   2659\u001b[0m         \u001b[0mindexer\u001b[0m \u001b[1;33m=\u001b[0m \u001b[0mself\u001b[0m\u001b[1;33m.\u001b[0m\u001b[0mget_indexer\u001b[0m\u001b[1;33m(\u001b[0m\u001b[1;33m[\u001b[0m\u001b[0mkey\u001b[0m\u001b[1;33m]\u001b[0m\u001b[1;33m,\u001b[0m \u001b[0mmethod\u001b[0m\u001b[1;33m=\u001b[0m\u001b[0mmethod\u001b[0m\u001b[1;33m,\u001b[0m \u001b[0mtolerance\u001b[0m\u001b[1;33m=\u001b[0m\u001b[0mtolerance\u001b[0m\u001b[1;33m)\u001b[0m\u001b[1;33m\u001b[0m\u001b[1;33m\u001b[0m\u001b[0m\n\u001b[0;32m   2660\u001b[0m         \u001b[1;32mif\u001b[0m \u001b[0mindexer\u001b[0m\u001b[1;33m.\u001b[0m\u001b[0mndim\u001b[0m \u001b[1;33m>\u001b[0m \u001b[1;36m1\u001b[0m \u001b[1;32mor\u001b[0m \u001b[0mindexer\u001b[0m\u001b[1;33m.\u001b[0m\u001b[0msize\u001b[0m \u001b[1;33m>\u001b[0m \u001b[1;36m1\u001b[0m\u001b[1;33m:\u001b[0m\u001b[1;33m\u001b[0m\u001b[1;33m\u001b[0m\u001b[0m\n",
      "\u001b[1;32mpandas\\_libs\\index.pyx\u001b[0m in \u001b[0;36mpandas._libs.index.IndexEngine.get_loc\u001b[1;34m()\u001b[0m\n",
      "\u001b[1;32mpandas\\_libs\\index.pyx\u001b[0m in \u001b[0;36mpandas._libs.index.IndexEngine.get_loc\u001b[1;34m()\u001b[0m\n",
      "\u001b[1;32mpandas\\_libs\\hashtable_class_helper.pxi\u001b[0m in \u001b[0;36mpandas._libs.hashtable.PyObjectHashTable.get_item\u001b[1;34m()\u001b[0m\n",
      "\u001b[1;32mpandas\\_libs\\hashtable_class_helper.pxi\u001b[0m in \u001b[0;36mpandas._libs.hashtable.PyObjectHashTable.get_item\u001b[1;34m()\u001b[0m\n",
      "\u001b[1;31mKeyError\u001b[0m: 'fac_total'"
     ]
    }
   ],
   "source": [
    "for dataset in ttrain:\n",
    "    dataset.loc[(dataset[\"fac_total\"] > 2) & (dataset[\"fac_total\"] <= 4), \"fac_total\"] = 1,\n",
    "    dataset.loc[(dataset[\"fac_total\"] > 4) & (dataset[\"fac_total\"] <= 6), \"fac_total\"] = 2,"
   ]
  },
  {
   "cell_type": "code",
   "execution_count": 15,
   "metadata": {},
   "outputs": [],
   "source": [
    "####################"
   ]
  },
  {
   "cell_type": "code",
   "execution_count": 16,
   "metadata": {},
   "outputs": [
    {
     "data": {
      "text/html": [
       "<div>\n",
       "<style scoped>\n",
       "    .dataframe tbody tr th:only-of-type {\n",
       "        vertical-align: middle;\n",
       "    }\n",
       "\n",
       "    .dataframe tbody tr th {\n",
       "        vertical-align: top;\n",
       "    }\n",
       "\n",
       "    .dataframe thead th {\n",
       "        text-align: right;\n",
       "    }\n",
       "</style>\n",
       "<table border=\"1\" class=\"dataframe\">\n",
       "  <thead>\n",
       "    <tr style=\"text-align: right;\">\n",
       "      <th></th>\n",
       "      <th>id</th>\n",
       "      <th>fac_1</th>\n",
       "      <th>fac_2</th>\n",
       "      <th>fac_3</th>\n",
       "      <th>fac_4</th>\n",
       "      <th>fac_5</th>\n",
       "      <th>fac_6</th>\n",
       "      <th>fac_7</th>\n",
       "      <th>fac_8</th>\n",
       "      <th>poi_1</th>\n",
       "      <th>poi_2</th>\n",
       "      <th>poi_3</th>\n",
       "      <th>size</th>\n",
       "      <th>price_monthly</th>\n",
       "      <th>room_count</th>\n",
       "      <th>total_call</th>\n",
       "      <th>gender</th>\n",
       "    </tr>\n",
       "  </thead>\n",
       "  <tbody>\n",
       "    <tr>\n",
       "      <th>count</th>\n",
       "      <td>3293.000000</td>\n",
       "      <td>3293.000000</td>\n",
       "      <td>3293.000000</td>\n",
       "      <td>3293.000000</td>\n",
       "      <td>3293.000000</td>\n",
       "      <td>3293.000000</td>\n",
       "      <td>3293.000000</td>\n",
       "      <td>3293.000000</td>\n",
       "      <td>3293.000000</td>\n",
       "      <td>3293.000000</td>\n",
       "      <td>3293.000000</td>\n",
       "      <td>3293.000000</td>\n",
       "      <td>3293.000000</td>\n",
       "      <td>3.293000e+03</td>\n",
       "      <td>3293.000000</td>\n",
       "      <td>3293.000000</td>\n",
       "      <td>3293.000000</td>\n",
       "    </tr>\n",
       "    <tr>\n",
       "      <th>mean</th>\n",
       "      <td>1647.000000</td>\n",
       "      <td>0.256605</td>\n",
       "      <td>0.617067</td>\n",
       "      <td>0.447920</td>\n",
       "      <td>0.571819</td>\n",
       "      <td>0.649256</td>\n",
       "      <td>0.419374</td>\n",
       "      <td>0.004555</td>\n",
       "      <td>0.528394</td>\n",
       "      <td>4665.080474</td>\n",
       "      <td>9907.750076</td>\n",
       "      <td>4881.133009</td>\n",
       "      <td>12.108069</td>\n",
       "      <td>8.936500e+05</td>\n",
       "      <td>10.447312</td>\n",
       "      <td>35.362587</td>\n",
       "      <td>0.895536</td>\n",
       "    </tr>\n",
       "    <tr>\n",
       "      <th>std</th>\n",
       "      <td>950.751545</td>\n",
       "      <td>0.436826</td>\n",
       "      <td>0.486176</td>\n",
       "      <td>0.497356</td>\n",
       "      <td>0.494890</td>\n",
       "      <td>0.477275</td>\n",
       "      <td>0.493532</td>\n",
       "      <td>0.067348</td>\n",
       "      <td>0.499269</td>\n",
       "      <td>3534.056985</td>\n",
       "      <td>4667.454136</td>\n",
       "      <td>3573.419628</td>\n",
       "      <td>4.908198</td>\n",
       "      <td>6.433234e+05</td>\n",
       "      <td>9.471838</td>\n",
       "      <td>47.269615</td>\n",
       "      <td>0.681304</td>\n",
       "    </tr>\n",
       "    <tr>\n",
       "      <th>min</th>\n",
       "      <td>1.000000</td>\n",
       "      <td>0.000000</td>\n",
       "      <td>0.000000</td>\n",
       "      <td>0.000000</td>\n",
       "      <td>0.000000</td>\n",
       "      <td>0.000000</td>\n",
       "      <td>0.000000</td>\n",
       "      <td>0.000000</td>\n",
       "      <td>0.000000</td>\n",
       "      <td>519.000000</td>\n",
       "      <td>168.000000</td>\n",
       "      <td>324.000000</td>\n",
       "      <td>6.000000</td>\n",
       "      <td>1.550000e+05</td>\n",
       "      <td>1.000000</td>\n",
       "      <td>1.000000</td>\n",
       "      <td>0.000000</td>\n",
       "    </tr>\n",
       "    <tr>\n",
       "      <th>25%</th>\n",
       "      <td>824.000000</td>\n",
       "      <td>0.000000</td>\n",
       "      <td>0.000000</td>\n",
       "      <td>0.000000</td>\n",
       "      <td>0.000000</td>\n",
       "      <td>0.000000</td>\n",
       "      <td>0.000000</td>\n",
       "      <td>0.000000</td>\n",
       "      <td>0.000000</td>\n",
       "      <td>2401.000000</td>\n",
       "      <td>7918.000000</td>\n",
       "      <td>2727.000000</td>\n",
       "      <td>9.000000</td>\n",
       "      <td>5.000000e+05</td>\n",
       "      <td>4.000000</td>\n",
       "      <td>8.000000</td>\n",
       "      <td>0.000000</td>\n",
       "    </tr>\n",
       "    <tr>\n",
       "      <th>50%</th>\n",
       "      <td>1647.000000</td>\n",
       "      <td>0.000000</td>\n",
       "      <td>1.000000</td>\n",
       "      <td>0.000000</td>\n",
       "      <td>1.000000</td>\n",
       "      <td>1.000000</td>\n",
       "      <td>0.000000</td>\n",
       "      <td>0.000000</td>\n",
       "      <td>1.000000</td>\n",
       "      <td>3963.000000</td>\n",
       "      <td>9266.000000</td>\n",
       "      <td>3927.000000</td>\n",
       "      <td>12.000000</td>\n",
       "      <td>6.500000e+05</td>\n",
       "      <td>8.000000</td>\n",
       "      <td>20.000000</td>\n",
       "      <td>1.000000</td>\n",
       "    </tr>\n",
       "    <tr>\n",
       "      <th>75%</th>\n",
       "      <td>2470.000000</td>\n",
       "      <td>1.000000</td>\n",
       "      <td>1.000000</td>\n",
       "      <td>1.000000</td>\n",
       "      <td>1.000000</td>\n",
       "      <td>1.000000</td>\n",
       "      <td>1.000000</td>\n",
       "      <td>0.000000</td>\n",
       "      <td>1.000000</td>\n",
       "      <td>5850.000000</td>\n",
       "      <td>12354.000000</td>\n",
       "      <td>5957.000000</td>\n",
       "      <td>12.000000</td>\n",
       "      <td>1.200000e+06</td>\n",
       "      <td>14.000000</td>\n",
       "      <td>44.000000</td>\n",
       "      <td>1.000000</td>\n",
       "    </tr>\n",
       "    <tr>\n",
       "      <th>max</th>\n",
       "      <td>3293.000000</td>\n",
       "      <td>1.000000</td>\n",
       "      <td>1.000000</td>\n",
       "      <td>1.000000</td>\n",
       "      <td>1.000000</td>\n",
       "      <td>1.000000</td>\n",
       "      <td>1.000000</td>\n",
       "      <td>1.000000</td>\n",
       "      <td>1.000000</td>\n",
       "      <td>48675.000000</td>\n",
       "      <td>55105.000000</td>\n",
       "      <td>46517.000000</td>\n",
       "      <td>48.000000</td>\n",
       "      <td>5.000000e+06</td>\n",
       "      <td>121.000000</td>\n",
       "      <td>769.000000</td>\n",
       "      <td>2.000000</td>\n",
       "    </tr>\n",
       "  </tbody>\n",
       "</table>\n",
       "</div>"
      ],
      "text/plain": [
       "                id        fac_1        fac_2        fac_3        fac_4  \\\n",
       "count  3293.000000  3293.000000  3293.000000  3293.000000  3293.000000   \n",
       "mean   1647.000000     0.256605     0.617067     0.447920     0.571819   \n",
       "std     950.751545     0.436826     0.486176     0.497356     0.494890   \n",
       "min       1.000000     0.000000     0.000000     0.000000     0.000000   \n",
       "25%     824.000000     0.000000     0.000000     0.000000     0.000000   \n",
       "50%    1647.000000     0.000000     1.000000     0.000000     1.000000   \n",
       "75%    2470.000000     1.000000     1.000000     1.000000     1.000000   \n",
       "max    3293.000000     1.000000     1.000000     1.000000     1.000000   \n",
       "\n",
       "             fac_5        fac_6        fac_7        fac_8         poi_1  \\\n",
       "count  3293.000000  3293.000000  3293.000000  3293.000000   3293.000000   \n",
       "mean      0.649256     0.419374     0.004555     0.528394   4665.080474   \n",
       "std       0.477275     0.493532     0.067348     0.499269   3534.056985   \n",
       "min       0.000000     0.000000     0.000000     0.000000    519.000000   \n",
       "25%       0.000000     0.000000     0.000000     0.000000   2401.000000   \n",
       "50%       1.000000     0.000000     0.000000     1.000000   3963.000000   \n",
       "75%       1.000000     1.000000     0.000000     1.000000   5850.000000   \n",
       "max       1.000000     1.000000     1.000000     1.000000  48675.000000   \n",
       "\n",
       "              poi_2         poi_3         size  price_monthly   room_count  \\\n",
       "count   3293.000000   3293.000000  3293.000000   3.293000e+03  3293.000000   \n",
       "mean    9907.750076   4881.133009    12.108069   8.936500e+05    10.447312   \n",
       "std     4667.454136   3573.419628     4.908198   6.433234e+05     9.471838   \n",
       "min      168.000000    324.000000     6.000000   1.550000e+05     1.000000   \n",
       "25%     7918.000000   2727.000000     9.000000   5.000000e+05     4.000000   \n",
       "50%     9266.000000   3927.000000    12.000000   6.500000e+05     8.000000   \n",
       "75%    12354.000000   5957.000000    12.000000   1.200000e+06    14.000000   \n",
       "max    55105.000000  46517.000000    48.000000   5.000000e+06   121.000000   \n",
       "\n",
       "        total_call       gender  \n",
       "count  3293.000000  3293.000000  \n",
       "mean     35.362587     0.895536  \n",
       "std      47.269615     0.681304  \n",
       "min       1.000000     0.000000  \n",
       "25%       8.000000     0.000000  \n",
       "50%      20.000000     1.000000  \n",
       "75%      44.000000     1.000000  \n",
       "max     769.000000     2.000000  "
      ]
     },
     "execution_count": 16,
     "metadata": {},
     "output_type": "execute_result"
    }
   ],
   "source": [
    "train.describe()"
   ]
  },
  {
   "cell_type": "code",
   "execution_count": 17,
   "metadata": {},
   "outputs": [
    {
     "data": {
      "image/png": "[encoded data removed]",
      "text/plain": [
       "<Figure size 432x288 with 1 Axes>"
      ]
     },
     "metadata": {},
     "output_type": "display_data"
    }
   ],
   "source": [
    "fig, ax = plt.subplots()\n",
    "\n",
    "size = 0.5\n",
    "vals = np.array([[60., 32.], [37., 40.], [29., 10.]])\n",
    "\n",
    "cmap = plt.get_cmap(\"tab20c\")\n",
    "outer_colors = cmap(np.arange(3)*4)\n",
    "inner_colors = cmap(np.array([1, 2, 5, 6, 9, 10]))\n",
    "\n",
    "ax.pie(vals.sum(axis=1), radius=1, colors=outer_colors,\n",
    "       wedgeprops=dict(width=size, edgecolor='w'))\n",
    "\n",
    "ax.pie(vals.flatten(), radius=1-size, colors=inner_colors,\n",
    "       wedgeprops=dict(width=size, edgecolor='w'))\n",
    "\n",
    "ax.set(aspect=\"equal\", title='Pie plot with `ax.pie`')\n",
    "plt.show()"
   ]
  },
  {
   "cell_type": "code",
   "execution_count": 18,
   "metadata": {},
   "outputs": [
    {
     "data": {
      "text/plain": [
       "<matplotlib.patches.Circle at 0x22876a04e10>"
      ]
     },
     "execution_count": 18,
     "metadata": {},
     "output_type": "execute_result"
    },
    {
     "data": {
      "image/png": "[encoded data removed]",
      "text/plain": [
       "<Figure size 576x504 with 1 Axes>"
      ]
     },
     "metadata": {},
     "output_type": "display_data"
    }
   ],
   "source": [
    "#Untuk pelabelan gender\n",
    "default_colors = ['#ffb3e6', '#66b3ff', '#ffcc99']\n",
    "ax = train[\"gender\"].value_counts().plot.pie(autopct='%1.1f%%', colors=default_colors, startangle=95, title=\"Gender\",\n",
    "                                            fontsize=14)\n",
    "\n",
    "fig = plt.gcf()\n",
    "fig.set_size_inches(8, 7)\n",
    "\n",
    "ax.set_ylabel('')\n",
    "for item in ([ax.title, ax.xaxis.label, ax.yaxis.label] + ax.get_xticklabels() + ax.get_yticklabels()):\n",
    "    item.set_fontsize(20)\n",
    "        \n",
    "centre_circle = plt.Circle((0,0), 0.40, fc='white')\n",
    "fig.gca().add_artist(centre_circle)"
   ]
  },
  {
   "cell_type": "code",
   "execution_count": 19,
   "metadata": {},
   "outputs": [
    {
     "data": {
      "image/png": "[encoded data removed]",
      "text/plain": [
       "<Figure size 720x360 with 1 Axes>"
      ]
     },
     "metadata": {
      "needs_background": "light"
     },
     "output_type": "display_data"
    }
   ],
   "source": [
    "#Untuk pelabelan total_call\n",
    "plt.figure(figsize=(10,5))\n",
    "plt.xlim(train.total_call.min()-10, train.total_call.max()+100)\n",
    "sns.boxplot(x=train.total_call)\n",
    "plt.show()"
   ]
  },
  {
   "cell_type": "code",
   "execution_count": 20,
   "metadata": {},
   "outputs": [],
   "source": [
    "for dataset in ttrain:\n",
    "    dataset.loc[dataset[\"total_call\"] <= 20, \"total_call\"] = 0,\n",
    "    dataset.loc[(dataset[\"total_call\"] > 20) & (dataset[\"total_call\"] <= 40), \"total_call\"] = 0.2,\n",
    "    dataset.loc[(dataset[\"total_call\"] > 40) & (dataset[\"total_call\"] <= 60), \"total_call\"] = 0.4,\n",
    "    dataset.loc[(dataset[\"total_call\"] > 60) & (dataset[\"total_call\"] <= 80), \"total_call\"] = 0.6,\n",
    "    dataset.loc[(dataset[\"total_call\"] > 80) & (dataset[\"total_call\"] <= 100), \"total_call\"] = 0.8,\n",
    "    dataset.loc[(dataset[\"total_call\"] > 100) & (dataset[\"total_call\"] <= 130), \"total_call\"] = 1,\n",
    "    dataset.loc[(dataset[\"total_call\"] > 130) & (dataset[\"total_call\"] <= 160), \"total_call\"] = 1.2,\n",
    "    dataset.loc[(dataset[\"total_call\"] > 160) & (dataset[\"total_call\"] <= 190), \"total_call\"] = 1.4,\n",
    "    dataset.loc[(dataset[\"total_call\"] > 190) & (dataset[\"total_call\"] <= 220), \"total_call\"] = 1.6,\n",
    "    dataset.loc[(dataset[\"total_call\"] > 220) & (dataset[\"total_call\"] <= 250), \"total_call\"] = 1.8,\n",
    "    dataset.loc[(dataset[\"total_call\"] > 250) & (dataset[\"total_call\"] <= 290), \"total_call\"] = 2,\n",
    "    dataset.loc[(dataset[\"total_call\"] > 290) & (dataset[\"total_call\"] <= 340), \"total_call\"] = 2.2,\n",
    "    dataset.loc[(dataset[\"total_call\"] > 340) & (dataset[\"total_call\"] <= 400), \"total_call\"] = 2.4,\n",
    "    dataset.loc[dataset[\"total_call\"] > 400, \"total_call\"] = 2.6"
   ]
  },
  {
   "cell_type": "code",
   "execution_count": 21,
   "metadata": {},
   "outputs": [
    {
     "data": {
      "image/png": "[encoded data removed]",
      "text/plain": [
       "<Figure size 720x360 with 1 Axes>"
      ]
     },
     "metadata": {
      "needs_background": "light"
     },
     "output_type": "display_data"
    }
   ],
   "source": [
    "#Untuk pelabelan room_count\n",
    "plt.figure(figsize=(10,5))\n",
    "plt.xlim(train.room_count.min()-10, train.room_count.max()+30)\n",
    "sns.boxplot(x=train.room_count, color=\"red\")\n",
    "sns.set\n",
    "plt.show()"
   ]
  },
  {
   "cell_type": "code",
   "execution_count": 22,
   "metadata": {},
   "outputs": [],
   "source": [
    "for dataset in ttrain:\n",
    "    dataset.loc[dataset[\"room_count\"] <= 7, \"room_count\"] = 0,\n",
    "    dataset.loc[(dataset[\"room_count\"] > 7) & (dataset[\"room_count\"] <= 14), \"room_count\"] = 0.2,\n",
    "    dataset.loc[(dataset[\"room_count\"] > 14) & (dataset[\"room_count\"] <= 21), \"room_count\"] = 0.4,\n",
    "    dataset.loc[(dataset[\"room_count\"] > 21) & (dataset[\"room_count\"] <= 28), \"room_count\"] = 0.6,\n",
    "    dataset.loc[(dataset[\"room_count\"] > 28) & (dataset[\"room_count\"] <= 35), \"room_count\"] = 0.8,\n",
    "    dataset.loc[(dataset[\"room_count\"] > 35) & (dataset[\"room_count\"] <= 42), \"room_count\"] = 1,\n",
    "    dataset.loc[(dataset[\"room_count\"] > 42) & (dataset[\"room_count\"] <= 49), \"room_count\"] = 1.2,\n",
    "    dataset.loc[(dataset[\"room_count\"] > 49) & (dataset[\"room_count\"] <= 56), \"room_count\"] = 1.4,\n",
    "    dataset.loc[(dataset[\"room_count\"] > 56) & (dataset[\"room_count\"] <= 63), \"room_count\"] = 1.6,\n",
    "    dataset.loc[(dataset[\"room_count\"] > 63) & (dataset[\"room_count\"] <= 70), \"room_count\"] = 1.8,\n",
    "    dataset.loc[dataset[\"room_count\"] > 70, \"room_count\"] = 2"
   ]
  },
  {
   "cell_type": "code",
   "execution_count": 23,
   "metadata": {},
   "outputs": [
    {
     "data": {
      "image/png": "[encoded data removed]",
      "text/plain": [
       "<Figure size 720x360 with 1 Axes>"
      ]
     },
     "metadata": {
      "needs_background": "light"
     },
     "output_type": "display_data"
    }
   ],
   "source": [
    "#Untuk pelabelan size\n",
    "plt.figure(figsize=(10,5))\n",
    "plt.xlim(train[\"size\"].min()-10, train[\"size\"].max()+10)\n",
    "sns.boxplot(x=train[\"size\"])\n",
    "plt.show()"
   ]
  },
  {
   "cell_type": "code",
   "execution_count": 24,
   "metadata": {},
   "outputs": [],
   "source": [
    "for dataset in ttrain:\n",
    "    dataset.loc[dataset[\"size\"] <= 10, \"size\"] = 0,\n",
    "    dataset.loc[(dataset[\"size\"] > 10) & (dataset[\"size\"] <= 13), \"size\"] = 0.2,\n",
    "    dataset.loc[(dataset[\"size\"] > 13) & (dataset[\"size\"] <= 16), \"size\"] = 0.4,\n",
    "    dataset.loc[(dataset[\"size\"] > 16) & (dataset[\"size\"] <= 19), \"size\"] = 0.6,\n",
    "    dataset.loc[(dataset[\"size\"] > 19) & (dataset[\"size\"] <= 21), \"size\"] = 0.8,\n",
    "    dataset.loc[(dataset[\"size\"] > 21) & (dataset[\"size\"] <= 25), \"size\"] = 1,\n",
    "    dataset.loc[(dataset[\"size\"] > 25) & (dataset[\"size\"] <= 30), \"size\"] = 1.2,\n",
    "    dataset.loc[(dataset[\"size\"] > 30) & (dataset[\"size\"] <= 35), \"size\"] = 1.4,\n",
    "    dataset.loc[(dataset[\"size\"] > 35) & (dataset[\"size\"] <= 40), \"size\"] = 1.6,\n",
    "    dataset.loc[dataset[\"size\"] > 40, \"size\"] = 1.8"
   ]
  },
  {
   "cell_type": "code",
   "execution_count": 25,
   "metadata": {},
   "outputs": [
    {
     "data": {
      "image/png": "[encoded data removed]",
      "text/plain": [
       "<Figure size 720x360 with 1 Axes>"
      ]
     },
     "metadata": {
      "needs_background": "light"
     },
     "output_type": "display_data"
    }
   ],
   "source": [
    "#Untuk pelabelan price_monthly\n",
    "plt.figure(figsize=(10,5))\n",
    "plt.xlim(train.price_monthly.min()-300000, train.price_monthly.max()+300000)\n",
    "sns.boxplot(x=train.price_monthly)\n",
    "plt.show()"
   ]
  },
  {
   "cell_type": "code",
   "execution_count": 26,
   "metadata": {},
   "outputs": [],
   "source": [
    "for dataset in ttrain:\n",
    "    dataset.loc[dataset[\"price_monthly\"] <= 400000, \"price_monthly\"] = 0,\n",
    "    dataset.loc[(dataset[\"price_monthly\"] > 400000) & (dataset[\"price_monthly\"] <= 800000), \"price_monthly\"] = 0.2,\n",
    "    dataset.loc[(dataset[\"price_monthly\"] > 800000) & (dataset[\"price_monthly\"] <= 1200000), \"price_monthly\"] = 0.4,\n",
    "    dataset.loc[(dataset[\"price_monthly\"] > 1200000) & (dataset[\"price_monthly\"] <= 1600000), \"price_monthly\"] = 0.6,\n",
    "    dataset.loc[(dataset[\"price_monthly\"] > 1600000) & (dataset[\"price_monthly\"] <= 2000000), \"price_monthly\"] = 0.8,\n",
    "    dataset.loc[(dataset[\"price_monthly\"] > 2000000) & (dataset[\"price_monthly\"] <= 2400000), \"price_monthly\"] = 1,\n",
    "    dataset.loc[(dataset[\"price_monthly\"] > 2400000) & (dataset[\"price_monthly\"] <= 3000000), \"price_monthly\"] = 1.2,\n",
    "    dataset.loc[(dataset[\"price_monthly\"] > 3000000) & (dataset[\"price_monthly\"] <= 3500000), \"price_monthly\"] = 1.4,\n",
    "    dataset.loc[(dataset[\"price_monthly\"] > 3500000) & (dataset[\"price_monthly\"] <= 4000000), \"price_monthly\"] = 1.6,\n",
    "    dataset.loc[dataset[\"price_monthly\"] > 4000000, \"price_monthly\"] = 1.8"
   ]
  },
  {
   "cell_type": "code",
   "execution_count": 27,
   "metadata": {},
   "outputs": [
    {
     "data": {
      "image/png": "[encoded data removed]",
      "text/plain": [
       "<Figure size 720x360 with 1 Axes>"
      ]
     },
     "metadata": {
      "needs_background": "light"
     },
     "output_type": "display_data"
    }
   ],
   "source": [
    "#Untuk pelabelan poi_1\n",
    "plt.figure(figsize=(10,5))\n",
    "plt.xlim(train.poi_1.min()-3000, train.poi_1.max()+3000)\n",
    "sns.boxplot(x=train.poi_1)\n",
    "plt.show()"
   ]
  },
  {
   "cell_type": "code",
   "execution_count": 28,
   "metadata": {},
   "outputs": [],
   "source": [
    "for dataset in ttrain:\n",
    "    dataset.loc[dataset[\"poi_1\"] <= 4000, \"poi_1\"] = 0,\n",
    "    dataset.loc[(dataset[\"poi_1\"] > 4000) & (dataset[\"poi_1\"] <= 8000), \"poi_1\"] = 0.2,\n",
    "    dataset.loc[(dataset[\"poi_1\"] > 8000) & (dataset[\"poi_1\"] <= 12000), \"poi_1\"] = 0.4,\n",
    "    dataset.loc[(dataset[\"poi_1\"] > 12000) & (dataset[\"poi_1\"] <= 16000), \"poi_1\"] = 0.6,\n",
    "    dataset.loc[(dataset[\"poi_1\"] > 16000) & (dataset[\"poi_1\"] <= 20000), \"poi_1\"] = 0.8,\n",
    "    dataset.loc[(dataset[\"poi_1\"] > 20000) & (dataset[\"poi_1\"] <= 24000), \"poi_1\"] = 1,\n",
    "    dataset.loc[(dataset[\"poi_1\"] > 24000) & (dataset[\"poi_1\"] <= 28000), \"poi_1\"] = 1.2,\n",
    "    dataset.loc[(dataset[\"poi_1\"] > 28000) & (dataset[\"poi_1\"] <= 32000), \"poi_1\"] = 1.4,\n",
    "    dataset.loc[(dataset[\"poi_1\"] > 32000) & (dataset[\"poi_1\"] <= 40000), \"poi_1\"] = 1.6,\n",
    "    dataset.loc[dataset[\"poi_1\"] > 40000, \"poi_1\"] = 1.8"
   ]
  },
  {
   "cell_type": "code",
   "execution_count": 29,
   "metadata": {},
   "outputs": [
    {
     "data": {
      "image/png": "[encoded data removed]",
      "text/plain": [
       "<Figure size 720x360 with 1 Axes>"
      ]
     },
     "metadata": {
      "needs_background": "light"
     },
     "output_type": "display_data"
    }
   ],
   "source": [
    "#Untuk pelabelan poi_2\n",
    "plt.figure(figsize=(10,5))\n",
    "plt.xlim(train.poi_2.min()-3000, train.poi_2.max()+3000)\n",
    "sns.boxplot(x=train.poi_2)\n",
    "plt.show()"
   ]
  },
  {
   "cell_type": "code",
   "execution_count": 30,
   "metadata": {},
   "outputs": [],
   "source": [
    "for dataset in ttrain:\n",
    "    dataset.loc[dataset[\"poi_2\"] <= 4000, \"poi_2\"] = 0,\n",
    "    dataset.loc[(dataset[\"poi_2\"] > 4000) & (dataset[\"poi_2\"] <= 8000), \"poi_2\"] = 0.2,\n",
    "    dataset.loc[(dataset[\"poi_2\"] > 8000) & (dataset[\"poi_2\"] <= 12000), \"poi_2\"] = 0.4,\n",
    "    dataset.loc[(dataset[\"poi_2\"] > 12000) & (dataset[\"poi_2\"] <= 16000), \"poi_2\"] = 0.6,\n",
    "    dataset.loc[(dataset[\"poi_2\"] > 16000) & (dataset[\"poi_2\"] <= 20000), \"poi_2\"] = 0.8,\n",
    "    dataset.loc[(dataset[\"poi_2\"] > 20000) & (dataset[\"poi_2\"] <= 24000), \"poi_2\"] = 1,\n",
    "    dataset.loc[(dataset[\"poi_2\"] > 24000) & (dataset[\"poi_2\"] <= 28000), \"poi_2\"] = 1.2,\n",
    "    dataset.loc[(dataset[\"poi_2\"] > 28000) & (dataset[\"poi_2\"] <= 32000), \"poi_2\"] = 1.4,\n",
    "    dataset.loc[(dataset[\"poi_2\"] > 32000) & (dataset[\"poi_2\"] <= 40000), \"poi_2\"] = 1.6,\n",
    "    dataset.loc[dataset[\"poi_2\"] > 40000, \"poi_2\"] = 1.8"
   ]
  },
  {
   "cell_type": "code",
   "execution_count": 31,
   "metadata": {},
   "outputs": [
    {
     "data": {
      "image/png": "[encoded data removed]",
      "text/plain": [
       "<Figure size 720x360 with 1 Axes>"
      ]
     },
     "metadata": {
      "needs_background": "light"
     },
     "output_type": "display_data"
    }
   ],
   "source": [
    "#Untuk pelabelan poi_3\n",
    "plt.figure(figsize=(10,5))\n",
    "plt.xlim(train.poi_3.min()-3000, train.poi_3.max()+3000)\n",
    "sns.boxplot(x=train.poi_3)\n",
    "plt.show()"
   ]
  },
  {
   "cell_type": "code",
   "execution_count": 32,
   "metadata": {},
   "outputs": [],
   "source": [
    "for dataset in ttrain:\n",
    "    dataset.loc[dataset[\"poi_3\"] <= 4000, \"poi_3\"] = 0,\n",
    "    dataset.loc[(dataset[\"poi_3\"] > 4000) & (dataset[\"poi_3\"] <= 8000), \"poi_3\"] = 0.2,\n",
    "    dataset.loc[(dataset[\"poi_3\"] > 8000) & (dataset[\"poi_3\"] <= 12000), \"poi_3\"] = 0.4,\n",
    "    dataset.loc[(dataset[\"poi_3\"] > 12000) & (dataset[\"poi_3\"] <= 16000), \"poi_3\"] = 0.6,\n",
    "    dataset.loc[(dataset[\"poi_3\"] > 16000) & (dataset[\"poi_3\"] <= 20000), \"poi_3\"] = 0.8,\n",
    "    dataset.loc[(dataset[\"poi_3\"] > 20000) & (dataset[\"poi_3\"] <= 24000), \"poi_3\"] = 1,\n",
    "    dataset.loc[(dataset[\"poi_3\"] > 24000) & (dataset[\"poi_3\"] <= 28000), \"poi_3\"] = 1.2,\n",
    "    dataset.loc[(dataset[\"poi_3\"] > 28000) & (dataset[\"poi_3\"] <= 32000), \"poi_3\"] = 1.4,\n",
    "    dataset.loc[(dataset[\"poi_3\"] > 32000) & (dataset[\"poi_3\"] <= 40000), \"poi_3\"] = 1.6,\n",
    "    dataset.loc[dataset[\"poi_3\"] > 40000, \"poi_3\"] = 1.8"
   ]
  },
  {
   "cell_type": "code",
   "execution_count": 33,
   "metadata": {},
   "outputs": [],
   "source": [
    "##################################"
   ]
  },
  {
   "cell_type": "code",
   "execution_count": 34,
   "metadata": {},
   "outputs": [
    {
     "data": {
      "text/html": [
       "<div>\n",
       "<style scoped>\n",
       "    .dataframe tbody tr th:only-of-type {\n",
       "        vertical-align: middle;\n",
       "    }\n",
       "\n",
       "    .dataframe tbody tr th {\n",
       "        vertical-align: top;\n",
       "    }\n",
       "\n",
       "    .dataframe thead th {\n",
       "        text-align: right;\n",
       "    }\n",
       "</style>\n",
       "<table border=\"1\" class=\"dataframe\">\n",
       "  <thead>\n",
       "    <tr style=\"text-align: right;\">\n",
       "      <th></th>\n",
       "      <th>id</th>\n",
       "      <th>fac_1</th>\n",
       "      <th>fac_2</th>\n",
       "      <th>fac_3</th>\n",
       "      <th>fac_4</th>\n",
       "      <th>fac_5</th>\n",
       "      <th>fac_6</th>\n",
       "      <th>fac_7</th>\n",
       "      <th>fac_8</th>\n",
       "      <th>poi_1</th>\n",
       "      <th>poi_2</th>\n",
       "      <th>poi_3</th>\n",
       "      <th>size</th>\n",
       "      <th>price_monthly</th>\n",
       "      <th>room_count</th>\n",
       "      <th>total_call</th>\n",
       "      <th>gender</th>\n",
       "    </tr>\n",
       "  </thead>\n",
       "  <tbody>\n",
       "    <tr>\n",
       "      <th>0</th>\n",
       "      <td>1</td>\n",
       "      <td>1.0</td>\n",
       "      <td>1.0</td>\n",
       "      <td>1.0</td>\n",
       "      <td>1.0</td>\n",
       "      <td>1.0</td>\n",
       "      <td>1.0</td>\n",
       "      <td>0.0</td>\n",
       "      <td>1.0</td>\n",
       "      <td>0.0</td>\n",
       "      <td>0.4</td>\n",
       "      <td>0.2</td>\n",
       "      <td>0.0</td>\n",
       "      <td>0.6</td>\n",
       "      <td>0.0</td>\n",
       "      <td>0.6</td>\n",
       "      <td>2</td>\n",
       "    </tr>\n",
       "    <tr>\n",
       "      <th>1</th>\n",
       "      <td>2</td>\n",
       "      <td>1.0</td>\n",
       "      <td>1.0</td>\n",
       "      <td>0.0</td>\n",
       "      <td>1.0</td>\n",
       "      <td>1.0</td>\n",
       "      <td>1.0</td>\n",
       "      <td>0.0</td>\n",
       "      <td>1.0</td>\n",
       "      <td>0.2</td>\n",
       "      <td>0.4</td>\n",
       "      <td>0.2</td>\n",
       "      <td>0.2</td>\n",
       "      <td>0.6</td>\n",
       "      <td>0.8</td>\n",
       "      <td>0.4</td>\n",
       "      <td>2</td>\n",
       "    </tr>\n",
       "    <tr>\n",
       "      <th>2</th>\n",
       "      <td>3</td>\n",
       "      <td>1.0</td>\n",
       "      <td>1.0</td>\n",
       "      <td>1.0</td>\n",
       "      <td>1.0</td>\n",
       "      <td>1.0</td>\n",
       "      <td>1.0</td>\n",
       "      <td>0.0</td>\n",
       "      <td>1.0</td>\n",
       "      <td>0.2</td>\n",
       "      <td>0.4</td>\n",
       "      <td>0.0</td>\n",
       "      <td>0.2</td>\n",
       "      <td>0.6</td>\n",
       "      <td>0.4</td>\n",
       "      <td>1.0</td>\n",
       "      <td>2</td>\n",
       "    </tr>\n",
       "    <tr>\n",
       "      <th>3</th>\n",
       "      <td>4</td>\n",
       "      <td>1.0</td>\n",
       "      <td>1.0</td>\n",
       "      <td>1.0</td>\n",
       "      <td>1.0</td>\n",
       "      <td>1.0</td>\n",
       "      <td>1.0</td>\n",
       "      <td>0.0</td>\n",
       "      <td>0.0</td>\n",
       "      <td>0.0</td>\n",
       "      <td>0.4</td>\n",
       "      <td>0.0</td>\n",
       "      <td>0.0</td>\n",
       "      <td>0.6</td>\n",
       "      <td>0.4</td>\n",
       "      <td>0.4</td>\n",
       "      <td>2</td>\n",
       "    </tr>\n",
       "    <tr>\n",
       "      <th>4</th>\n",
       "      <td>5</td>\n",
       "      <td>1.0</td>\n",
       "      <td>1.0</td>\n",
       "      <td>0.0</td>\n",
       "      <td>1.0</td>\n",
       "      <td>1.0</td>\n",
       "      <td>1.0</td>\n",
       "      <td>0.0</td>\n",
       "      <td>1.0</td>\n",
       "      <td>0.0</td>\n",
       "      <td>0.4</td>\n",
       "      <td>0.0</td>\n",
       "      <td>0.4</td>\n",
       "      <td>1.0</td>\n",
       "      <td>0.2</td>\n",
       "      <td>0.0</td>\n",
       "      <td>2</td>\n",
       "    </tr>\n",
       "  </tbody>\n",
       "</table>\n",
       "</div>"
      ],
      "text/plain": [
       "   id  fac_1  fac_2  fac_3  fac_4  fac_5  fac_6  fac_7  fac_8  poi_1  poi_2  \\\n",
       "0   1    1.0    1.0    1.0    1.0    1.0    1.0    0.0    1.0    0.0    0.4   \n",
       "1   2    1.0    1.0    0.0    1.0    1.0    1.0    0.0    1.0    0.2    0.4   \n",
       "2   3    1.0    1.0    1.0    1.0    1.0    1.0    0.0    1.0    0.2    0.4   \n",
       "3   4    1.0    1.0    1.0    1.0    1.0    1.0    0.0    0.0    0.0    0.4   \n",
       "4   5    1.0    1.0    0.0    1.0    1.0    1.0    0.0    1.0    0.0    0.4   \n",
       "\n",
       "   poi_3  size  price_monthly  room_count  total_call  gender  \n",
       "0    0.2   0.0            0.6         0.0         0.6       2  \n",
       "1    0.2   0.2            0.6         0.8         0.4       2  \n",
       "2    0.0   0.2            0.6         0.4         1.0       2  \n",
       "3    0.0   0.0            0.6         0.4         0.4       2  \n",
       "4    0.0   0.4            1.0         0.2         0.0       2  "
      ]
     },
     "execution_count": 34,
     "metadata": {},
     "output_type": "execute_result"
    }
   ],
   "source": [
    "train.head()"
   ]
  },
  {
   "cell_type": "code",
   "execution_count": 35,
   "metadata": {},
   "outputs": [],
   "source": [
    "train.loc[train.poi_1 > 40000, 'poi_1'] = train[\"poi_1\"].quantile(0.75)\n",
    "train.loc[train.poi_2 > 40000, 'poi_2'] = train[\"poi_2\"].quantile(0.75)\n",
    "train.loc[train.poi_3 > 40000, 'poi_3'] = train[\"poi_3\"].quantile(0.75)\n",
    "#train.loc[train.size > 35, 'size'] = train[\"size\"].quantile(0.75)\n",
    "train.loc[train.price_monthly > 4300000, 'price_monthly'] = train[\"price_monthly\"].quantile(0.75)\n",
    "train.loc[train.room_count > 80, 'room_count'] = train[\"room_count\"].quantile(0.75)\n",
    "train.loc[train.total_call > 400, 'total_call'] = train[\"total_call\"].quantile(0.75)"
   ]
  },
  {
   "cell_type": "code",
   "execution_count": 36,
   "metadata": {},
   "outputs": [
    {
     "data": {
      "text/plain": [
       "Index(['id', 'fac_1', 'fac_2', 'fac_3', 'fac_4', 'fac_5', 'fac_6', 'fac_7',\n",
       "       'fac_8', 'poi_1', 'poi_2', 'poi_3', 'size', 'price_monthly',\n",
       "       'room_count', 'total_call', 'gender'],\n",
       "      dtype='object')"
      ]
     },
     "execution_count": 36,
     "metadata": {},
     "output_type": "execute_result"
    }
   ],
   "source": [
    "train.columns.unique()"
   ]
  },
  {
   "cell_type": "code",
   "execution_count": 37,
   "metadata": {},
   "outputs": [],
   "source": [
    "##################################"
   ]
  },
  {
   "cell_type": "code",
   "execution_count": 38,
   "metadata": {},
   "outputs": [],
   "source": [
    "k_fold = KFold(n_splits=20, shuffle=True, random_state=7)"
   ]
  },
  {
   "cell_type": "code",
   "execution_count": 39,
   "metadata": {},
   "outputs": [],
   "source": [
    "X = bigtrain.drop([\"id\", \"gender\"], axis=1)\n",
    "y = bigtrain.filter([\"gender\"], axis=1)"
   ]
  },
  {
   "cell_type": "code",
   "execution_count": 42,
   "metadata": {},
   "outputs": [],
   "source": [
    "tester = test.drop(\"id\", axis=1)"
   ]
  },
  {
   "cell_type": "code",
   "execution_count": 43,
   "metadata": {},
   "outputs": [
    {
     "name": "stdout",
     "output_type": "stream",
     "text": [
      "[0.97575758 0.99393939 0.98787879 0.97575758 0.99393939 0.98181818\n",
      " 0.98176292 0.98176292 0.97568389 0.99392097 0.98176292 0.99392097\n",
      " 0.95744681 0.96960486 0.97568389 0.96960486 0.99392097 0.98176292\n",
      " 0.98784195 0.98176292]\n"
     ]
    },
    {
     "data": {
      "text/plain": [
       "98.18"
      ]
     },
     "execution_count": 43,
     "metadata": {},
     "output_type": "execute_result"
    }
   ],
   "source": [
    "clf = RandomForestClassifier(n_estimators=200)\n",
    "\n",
    "from sklearn.preprocessing import StandardScaler\n",
    "from sklearn.preprocessing import MinMaxScaler\n",
    "\n",
    "sc = StandardScaler()\n",
    "X = sc.fit_transform(X)\n",
    "tester= sc.transform(tester)\n",
    "\n",
    "scoring = \"accuracy\"\n",
    "score = cross_val_score(clf, X, y, cv=k_fold, n_jobs=1,\n",
    "                       scoring=scoring)\n",
    "print(score)\n",
    "round(np.mean(score)*100, 2)"
   ]
  },
  {
   "cell_type": "code",
   "execution_count": 44,
   "metadata": {},
   "outputs": [
    {
     "data": {
      "text/html": [
       "<div>\n",
       "<style scoped>\n",
       "    .dataframe tbody tr th:only-of-type {\n",
       "        vertical-align: middle;\n",
       "    }\n",
       "\n",
       "    .dataframe tbody tr th {\n",
       "        vertical-align: top;\n",
       "    }\n",
       "\n",
       "    .dataframe thead th {\n",
       "        text-align: right;\n",
       "    }\n",
       "</style>\n",
       "<table border=\"1\" class=\"dataframe\">\n",
       "  <thead>\n",
       "    <tr style=\"text-align: right;\">\n",
       "      <th></th>\n",
       "      <th>id</th>\n",
       "      <th>fac_1</th>\n",
       "      <th>fac_2</th>\n",
       "      <th>fac_3</th>\n",
       "      <th>fac_4</th>\n",
       "      <th>fac_5</th>\n",
       "      <th>fac_6</th>\n",
       "      <th>fac_7</th>\n",
       "      <th>fac_8</th>\n",
       "      <th>poi_1</th>\n",
       "      <th>poi_2</th>\n",
       "      <th>poi_3</th>\n",
       "      <th>size</th>\n",
       "      <th>price_monthly</th>\n",
       "      <th>room_count</th>\n",
       "      <th>total_call</th>\n",
       "    </tr>\n",
       "  </thead>\n",
       "  <tbody>\n",
       "    <tr>\n",
       "      <th>0</th>\n",
       "      <td>3294</td>\n",
       "      <td>0</td>\n",
       "      <td>1</td>\n",
       "      <td>0</td>\n",
       "      <td>0</td>\n",
       "      <td>0</td>\n",
       "      <td>0</td>\n",
       "      <td>0</td>\n",
       "      <td>1</td>\n",
       "      <td>0.0</td>\n",
       "      <td>0.4</td>\n",
       "      <td>0.0</td>\n",
       "      <td>0.8</td>\n",
       "      <td>0.2</td>\n",
       "      <td>0.0</td>\n",
       "      <td>0.0</td>\n",
       "    </tr>\n",
       "    <tr>\n",
       "      <th>1</th>\n",
       "      <td>3295</td>\n",
       "      <td>1</td>\n",
       "      <td>1</td>\n",
       "      <td>1</td>\n",
       "      <td>1</td>\n",
       "      <td>1</td>\n",
       "      <td>1</td>\n",
       "      <td>0</td>\n",
       "      <td>1</td>\n",
       "      <td>0.2</td>\n",
       "      <td>0.0</td>\n",
       "      <td>0.2</td>\n",
       "      <td>0.2</td>\n",
       "      <td>0.4</td>\n",
       "      <td>0.4</td>\n",
       "      <td>0.2</td>\n",
       "    </tr>\n",
       "    <tr>\n",
       "      <th>2</th>\n",
       "      <td>3296</td>\n",
       "      <td>0</td>\n",
       "      <td>1</td>\n",
       "      <td>1</td>\n",
       "      <td>1</td>\n",
       "      <td>1</td>\n",
       "      <td>0</td>\n",
       "      <td>0</td>\n",
       "      <td>1</td>\n",
       "      <td>0.4</td>\n",
       "      <td>0.0</td>\n",
       "      <td>0.4</td>\n",
       "      <td>0.2</td>\n",
       "      <td>0.2</td>\n",
       "      <td>0.2</td>\n",
       "      <td>0.0</td>\n",
       "    </tr>\n",
       "    <tr>\n",
       "      <th>3</th>\n",
       "      <td>3297</td>\n",
       "      <td>0</td>\n",
       "      <td>1</td>\n",
       "      <td>1</td>\n",
       "      <td>1</td>\n",
       "      <td>1</td>\n",
       "      <td>0</td>\n",
       "      <td>0</td>\n",
       "      <td>1</td>\n",
       "      <td>0.4</td>\n",
       "      <td>0.0</td>\n",
       "      <td>0.4</td>\n",
       "      <td>0.2</td>\n",
       "      <td>0.2</td>\n",
       "      <td>0.4</td>\n",
       "      <td>0.0</td>\n",
       "    </tr>\n",
       "    <tr>\n",
       "      <th>4</th>\n",
       "      <td>3298</td>\n",
       "      <td>0</td>\n",
       "      <td>1</td>\n",
       "      <td>0</td>\n",
       "      <td>0</td>\n",
       "      <td>1</td>\n",
       "      <td>0</td>\n",
       "      <td>0</td>\n",
       "      <td>1</td>\n",
       "      <td>0.0</td>\n",
       "      <td>0.4</td>\n",
       "      <td>0.0</td>\n",
       "      <td>0.4</td>\n",
       "      <td>0.2</td>\n",
       "      <td>0.0</td>\n",
       "      <td>0.2</td>\n",
       "    </tr>\n",
       "  </tbody>\n",
       "</table>\n",
       "</div>"
      ],
      "text/plain": [
       "     id  fac_1  fac_2  fac_3  fac_4  fac_5  fac_6  fac_7  fac_8  poi_1  poi_2  \\\n",
       "0  3294      0      1      0      0      0      0      0      1    0.0    0.4   \n",
       "1  3295      1      1      1      1      1      1      0      1    0.2    0.0   \n",
       "2  3296      0      1      1      1      1      0      0      1    0.4    0.0   \n",
       "3  3297      0      1      1      1      1      0      0      1    0.4    0.0   \n",
       "4  3298      0      1      0      0      1      0      0      1    0.0    0.4   \n",
       "\n",
       "   poi_3  size  price_monthly  room_count  total_call  \n",
       "0    0.0   0.8            0.2         0.0         0.0  \n",
       "1    0.2   0.2            0.4         0.4         0.2  \n",
       "2    0.4   0.2            0.2         0.2         0.0  \n",
       "3    0.4   0.2            0.2         0.4         0.0  \n",
       "4    0.0   0.4            0.2         0.0         0.2  "
      ]
     },
     "execution_count": 44,
     "metadata": {},
     "output_type": "execute_result"
    }
   ],
   "source": [
    "test.head()"
   ]
  },
  {
   "cell_type": "code",
   "execution_count": 45,
   "metadata": {},
   "outputs": [],
   "source": [
    "clf.fit(X, y)\n",
    "prediction = clf.predict(tester)"
   ]
  },
  {
   "cell_type": "code",
   "execution_count": 46,
   "metadata": {},
   "outputs": [],
   "source": [
    "submission = pd.DataFrame({\n",
    "    \"id\":test[\"id\"],\n",
    "    \"gender\":prediction\n",
    "})"
   ]
  },
  {
   "cell_type": "code",
   "execution_count": 47,
   "metadata": {},
   "outputs": [],
   "source": [
    "ttest = [submission]\n",
    "gender_mapping = {0:\"putra\", 1:\"putri\", 2:\"campur\"}\n",
    "for dataset in ttest:\n",
    "    dataset[\"gender\"] = dataset[\"gender\"].map(gender_mapping)"
   ]
  },
  {
   "cell_type": "code",
   "execution_count": 48,
   "metadata": {},
   "outputs": [],
   "source": [
    "submission.to_csv(\"DataMining_Prediksi_AB.csv\", index=False)"
   ]
  },
  {
   "cell_type": "code",
   "execution_count": 49,
   "metadata": {},
   "outputs": [
    {
     "data": {
      "text/html": [
       "<div>\n",
       "<style scoped>\n",
       "    .dataframe tbody tr th:only-of-type {\n",
       "        vertical-align: middle;\n",
       "    }\n",
       "\n",
       "    .dataframe tbody tr th {\n",
       "        vertical-align: top;\n",
       "    }\n",
       "\n",
       "    .dataframe thead th {\n",
       "        text-align: right;\n",
       "    }\n",
       "</style>\n",
       "<table border=\"1\" class=\"dataframe\">\n",
       "  <thead>\n",
       "    <tr style=\"text-align: right;\">\n",
       "      <th></th>\n",
       "      <th>id</th>\n",
       "      <th>gender</th>\n",
       "    </tr>\n",
       "  </thead>\n",
       "  <tbody>\n",
       "    <tr>\n",
       "      <th>0</th>\n",
       "      <td>3294</td>\n",
       "      <td>putri</td>\n",
       "    </tr>\n",
       "    <tr>\n",
       "      <th>1</th>\n",
       "      <td>3295</td>\n",
       "      <td>putri</td>\n",
       "    </tr>\n",
       "    <tr>\n",
       "      <th>2</th>\n",
       "      <td>3296</td>\n",
       "      <td>putri</td>\n",
       "    </tr>\n",
       "    <tr>\n",
       "      <th>3</th>\n",
       "      <td>3297</td>\n",
       "      <td>putri</td>\n",
       "    </tr>\n",
       "    <tr>\n",
       "      <th>4</th>\n",
       "      <td>3298</td>\n",
       "      <td>putri</td>\n",
       "    </tr>\n",
       "    <tr>\n",
       "      <th>5</th>\n",
       "      <td>3299</td>\n",
       "      <td>putri</td>\n",
       "    </tr>\n",
       "    <tr>\n",
       "      <th>6</th>\n",
       "      <td>3300</td>\n",
       "      <td>campur</td>\n",
       "    </tr>\n",
       "    <tr>\n",
       "      <th>7</th>\n",
       "      <td>3301</td>\n",
       "      <td>putri</td>\n",
       "    </tr>\n",
       "    <tr>\n",
       "      <th>8</th>\n",
       "      <td>3302</td>\n",
       "      <td>putri</td>\n",
       "    </tr>\n",
       "    <tr>\n",
       "      <th>9</th>\n",
       "      <td>3303</td>\n",
       "      <td>putri</td>\n",
       "    </tr>\n",
       "    <tr>\n",
       "      <th>10</th>\n",
       "      <td>3304</td>\n",
       "      <td>putri</td>\n",
       "    </tr>\n",
       "    <tr>\n",
       "      <th>11</th>\n",
       "      <td>3305</td>\n",
       "      <td>putri</td>\n",
       "    </tr>\n",
       "    <tr>\n",
       "      <th>12</th>\n",
       "      <td>3306</td>\n",
       "      <td>putri</td>\n",
       "    </tr>\n",
       "    <tr>\n",
       "      <th>13</th>\n",
       "      <td>3307</td>\n",
       "      <td>campur</td>\n",
       "    </tr>\n",
       "    <tr>\n",
       "      <th>14</th>\n",
       "      <td>3308</td>\n",
       "      <td>campur</td>\n",
       "    </tr>\n",
       "    <tr>\n",
       "      <th>15</th>\n",
       "      <td>3309</td>\n",
       "      <td>putri</td>\n",
       "    </tr>\n",
       "    <tr>\n",
       "      <th>16</th>\n",
       "      <td>3310</td>\n",
       "      <td>putri</td>\n",
       "    </tr>\n",
       "    <tr>\n",
       "      <th>17</th>\n",
       "      <td>3311</td>\n",
       "      <td>campur</td>\n",
       "    </tr>\n",
       "    <tr>\n",
       "      <th>18</th>\n",
       "      <td>3312</td>\n",
       "      <td>putri</td>\n",
       "    </tr>\n",
       "    <tr>\n",
       "      <th>19</th>\n",
       "      <td>3313</td>\n",
       "      <td>putri</td>\n",
       "    </tr>\n",
       "  </tbody>\n",
       "</table>\n",
       "</div>"
      ],
      "text/plain": [
       "      id  gender\n",
       "0   3294   putri\n",
       "1   3295   putri\n",
       "2   3296   putri\n",
       "3   3297   putri\n",
       "4   3298   putri\n",
       "5   3299   putri\n",
       "6   3300  campur\n",
       "7   3301   putri\n",
       "8   3302   putri\n",
       "9   3303   putri\n",
       "10  3304   putri\n",
       "11  3305   putri\n",
       "12  3306   putri\n",
       "13  3307  campur\n",
       "14  3308  campur\n",
       "15  3309   putri\n",
       "16  3310   putri\n",
       "17  3311  campur\n",
       "18  3312   putri\n",
       "19  3313   putri"
      ]
     },
     "execution_count": 49,
     "metadata": {},
     "output_type": "execute_result"
    }
   ],
   "source": [
    "hasil = pd.read_csv(\"DataMining_prediksi_AB.csv\")\n",
    "hasil.head(20)"
   ]
  },
  {
   "cell_type": "code",
   "execution_count": null,
   "metadata": {},
   "outputs": [],
   "source": []
  }
 ],
 "metadata": {
  "kernelspec": {
   "display_name": "Python 3",
   "language": "python",
   "name": "python3"
  },
  "language_info": {
   "codemirror_mode": {
    "name": "ipython",
    "version": 3
   },
   "file_extension": ".py",
   "mimetype": "text/x-python",
   "name": "python",
   "nbconvert_exporter": "python",
   "pygments_lexer": "ipython3",
   "version": "3.6.8"
  }
 },
 "nbformat": 4,
 "nbformat_minor": 2
}
